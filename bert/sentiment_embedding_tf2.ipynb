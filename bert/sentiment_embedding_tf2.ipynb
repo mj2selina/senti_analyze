{
 "cells": [
  {
   "cell_type": "markdown",
   "metadata": {},
   "source": [
    "# 1. 下载IMDB公开数据集，并处理"
   ]
  },
  {
   "cell_type": "code",
   "execution_count": 23,
   "metadata": {},
   "outputs": [],
   "source": [
    "import os\n",
    "\n",
    "imdb_dir = \"./aclImdb\"\n",
    "train_dir = os.path.join(imdb_dir, \"train\")\n",
    "\n",
    "\n",
    "labels = []\n",
    "texts = []\n",
    "\n",
    "for label_type in [\"neg\", \"pos\"]:\n",
    "    dir_name = os.path.join(train_dir, label_type)\n",
    "    for fname in os.listdir(dir_name):\n",
    "        if fname [-4:] == \".txt\":\n",
    "            f = open(os.path.join(dir_name, fname), encoding='utf-8')\n",
    "            texts.append(f.read())\n",
    "            f.close()\n",
    "            if label_type == \"neg\":\n",
    "                labels.append(0)\n",
    "            else:\n",
    "                labels.append(1)                    "
   ]
  },
  {
   "cell_type": "markdown",
   "metadata": {},
   "source": [
    "# 2. 制作训练集和验证集"
   ]
  },
  {
   "cell_type": "code",
   "execution_count": 24,
   "metadata": {},
   "outputs": [
    {
     "name": "stderr",
     "output_type": "stream",
     "text": [
      "Using TensorFlow backend.\n"
     ]
    },
    {
     "name": "stdout",
     "output_type": "stream",
     "text": [
      "Found 88582 unique tokens.\n",
      "Shape of data tensor: (25000, 100)\n",
      "Shape of label tensor: (25000,)\n"
     ]
    }
   ],
   "source": [
    "from keras.preprocessing.text import Tokenizer\n",
    "from keras.preprocessing. sequence import pad_sequences\n",
    "import numpy as np\n",
    "\n",
    "maxlen = 100 # cuts off review after 100 words\n",
    "training_samples = 200 # Trains on 200 samples\n",
    "validation_samples = 10000 # Validates o 10000 samples\n",
    "max_words = 10000 # Considers only the top 10000 words in the dataset\n",
    "\n",
    "tokenizer = Tokenizer(num_words=max_words)\n",
    "tokenizer.fit_on_texts(texts)\n",
    "sequences = tokenizer.texts_to_sequences(texts)\n",
    "word_index = tokenizer.word_index                   # Length: 88582\n",
    "print(\"Found %s unique tokens.\" % len(word_index))\n",
    "\n",
    "data = pad_sequences(sequences, maxlen=maxlen)\n",
    "\n",
    "labels = np.asarray(labels)\n",
    "print(\"Shape of data tensor:\", data.shape)\n",
    "print(\"Shape of label tensor:\", labels.shape)\n",
    "\n",
    "indices = np.arange(data.shape[0]) # Splits data into training and validation set, but shuffles is, since samples are ordered: \n",
    "# all negatives first, then all positive\n",
    "np.random.shuffle(indices)\n",
    "data = data[indices]\n",
    "labels = labels[indices]\n",
    "\n",
    "x_train = data[:training_samples] # (200, 100)\n",
    "y_train = labels[:training_samples] # shape (200,)\n",
    "x_val = data[training_samples:training_samples+validation_samples] # shape (10000, 100)\n",
    "y_val = labels[training_samples:training_samples+validation_samples] # shape (10000,)\n"
   ]
  },
  {
   "cell_type": "markdown",
   "metadata": {},
   "source": [
    "# 3. 下载glove词向量，并读入"
   ]
  },
  {
   "cell_type": "code",
   "execution_count": 25,
   "metadata": {},
   "outputs": [
    {
     "name": "stdout",
     "output_type": "stream",
     "text": [
      "found 400000 word vectors.\n"
     ]
    }
   ],
   "source": [
    "glove_dir = \"./\"\n",
    "\n",
    "embeddings_index = {}\n",
    "\n",
    "f = open(os.path.join(glove_dir, \"glove.6B.50d.txt\"), encoding='utf-8') #added , encoding='utf-8'\n",
    "for line in f:\n",
    "    values = line.split()\n",
    "    word = values[0]\n",
    "    coefs = np.asarray(values[1:], dtype=\"float32\")\n",
    "    embeddings_index[word] = coefs\n",
    "f.close()\n",
    "\n",
    "print(\"found %s word vectors.\" % len (embeddings_index))"
   ]
  },
  {
   "cell_type": "markdown",
   "metadata": {},
   "source": [
    "# 4. 读入词向量"
   ]
  },
  {
   "cell_type": "code",
   "execution_count": 26,
   "metadata": {},
   "outputs": [],
   "source": [
    "embedding_dim = 50 # GloVe contains 50-dimensional embedding vectors for 400.000 words\n",
    "\n",
    "embedding_matrix = np.zeros((max_words, embedding_dim)) # embedding_matrix.shape (10000, 50)\n",
    "for word, i in word_index.items():\n",
    "    if i < max_words:\n",
    "        embedding_vector = embeddings_index.get(word) # embedding_vector.shape (100,)\n",
    "        if embedding_vector is not None:\n",
    "            embedding_matrix[i] = embedding_vector # Words not found in the mebedding index will all be zeros"
   ]
  },
  {
   "cell_type": "markdown",
   "metadata": {},
   "source": [
    "# 5. 搭建模型"
   ]
  },
  {
   "cell_type": "code",
   "execution_count": 27,
   "metadata": {
    "scrolled": true
   },
   "outputs": [
    {
     "name": "stdout",
     "output_type": "stream",
     "text": [
      "Model: \"sequential_1\"\n",
      "_________________________________________________________________\n",
      "Layer (type)                 Output Shape              Param #   \n",
      "=================================================================\n",
      "embedding_1 (Embedding)      (None, 100, 50)           500000    \n",
      "_________________________________________________________________\n",
      "bidirectional_1 (Bidirection (None, 100, 128)          58880     \n",
      "_________________________________________________________________\n",
      "global_max_pooling1d_1 (Glob (None, 128)               0         \n",
      "_________________________________________________________________\n",
      "dense_2 (Dense)              (None, 16)                2064      \n",
      "_________________________________________________________________\n",
      "dense_3 (Dense)              (None, 1)                 17        \n",
      "=================================================================\n",
      "Total params: 560,961\n",
      "Trainable params: 560,961\n",
      "Non-trainable params: 0\n",
      "_________________________________________________________________\n"
     ]
    }
   ],
   "source": [
    "model = keras.models.Sequential() \n",
    "model.add(keras.layers.Embedding(max_words, embedding_dim, input_length = maxlen))\n",
    "model.add(keras.layers.Bidirectional(keras.layers.LSTM(64, return_sequences = True)))\n",
    "model.add(keras.layers.GlobalMaxPool1D())\n",
    "model.add(keras.layers.Dense(16, activation = \"relu\"))\n",
    "model.add(keras.layers.Dense(1, activation = \"sigmoid\"))\n",
    "model.compile(loss = 'binary_crossentropy', optimizer = 'adam', metrics = ['accuracy'])\n",
    "model.summary()"
   ]
  },
  {
   "cell_type": "markdown",
   "metadata": {},
   "source": [
    "# 6. 加载预训词向量"
   ]
  },
  {
   "cell_type": "code",
   "execution_count": 28,
   "metadata": {},
   "outputs": [],
   "source": [
    "model.layers[0].set_weights([embedding_matrix])\n",
    "model.layers[0].trainable = False "
   ]
  },
  {
   "cell_type": "markdown",
   "metadata": {},
   "source": [
    "# 7. 训练"
   ]
  },
  {
   "cell_type": "code",
   "execution_count": 29,
   "metadata": {},
   "outputs": [
    {
     "name": "stdout",
     "output_type": "stream",
     "text": [
      "Train on 200 samples, validate on 10000 samples\n",
      "Epoch 1/10\n",
      "200/200 [==============================] - 6s 31ms/sample - loss: 0.6943 - acc: 0.5550 - val_loss: 0.7011 - val_acc: 0.4923\n",
      "Epoch 2/10\n",
      "200/200 [==============================] - 3s 16ms/sample - loss: 0.6654 - acc: 0.5850 - val_loss: 0.6785 - val_acc: 0.6087\n",
      "Epoch 3/10\n",
      "200/200 [==============================] - 3s 16ms/sample - loss: 0.6481 - acc: 0.6850 - val_loss: 0.7081 - val_acc: 0.4925\n",
      "Epoch 4/10\n",
      "200/200 [==============================] - 3s 17ms/sample - loss: 0.6363 - acc: 0.6700 - val_loss: 0.7292 - val_acc: 0.4923\n",
      "Epoch 5/10\n",
      "200/200 [==============================] - 3s 17ms/sample - loss: 0.6148 - acc: 0.6800 - val_loss: 0.6750 - val_acc: 0.5296\n",
      "Epoch 6/10\n",
      "200/200 [==============================] - 3s 17ms/sample - loss: 0.6119 - acc: 0.7100 - val_loss: 0.6509 - val_acc: 0.6468\n",
      "Epoch 7/10\n",
      "200/200 [==============================] - 3s 17ms/sample - loss: 0.5820 - acc: 0.7600 - val_loss: 0.6450 - val_acc: 0.6489\n",
      "Epoch 8/10\n",
      "200/200 [==============================] - 3s 17ms/sample - loss: 0.5638 - acc: 0.7500 - val_loss: 0.7677 - val_acc: 0.4936\n",
      "Epoch 9/10\n",
      "200/200 [==============================] - 3s 17ms/sample - loss: 0.5511 - acc: 0.7400 - val_loss: 0.6763 - val_acc: 0.5466\n",
      "Epoch 10/10\n",
      "200/200 [==============================] - 3s 17ms/sample - loss: 0.4965 - acc: 0.8000 - val_loss: 0.6161 - val_acc: 0.6885\n"
     ]
    }
   ],
   "source": [
    "model.compile(optimizer = \"rmsprop\", \n",
    "              loss = \"binary_crossentropy\", # in a multiclass problem categorical_crossentropy would be used\n",
    "              metrics = [\"acc\"]) \n",
    "history = model.fit(x_train, y_train,\n",
    "                   epochs = 10,\n",
    "                   batch_size = 32,\n",
    "                   validation_data = (x_val, y_val))\n",
    "model.save_weights(\"pre_trained_glove_model.h5\")  "
   ]
  },
  {
   "cell_type": "code",
   "execution_count": null,
   "metadata": {},
   "outputs": [],
   "source": []
  },
  {
   "cell_type": "code",
   "execution_count": null,
   "metadata": {},
   "outputs": [],
   "source": []
  },
  {
   "cell_type": "code",
   "execution_count": null,
   "metadata": {},
   "outputs": [],
   "source": []
  },
  {
   "cell_type": "code",
   "execution_count": null,
   "metadata": {},
   "outputs": [],
   "source": []
  },
  {
   "cell_type": "code",
   "execution_count": null,
   "metadata": {},
   "outputs": [],
   "source": []
  },
  {
   "cell_type": "code",
   "execution_count": null,
   "metadata": {},
   "outputs": [],
   "source": []
  },
  {
   "cell_type": "code",
   "execution_count": null,
   "metadata": {},
   "outputs": [],
   "source": []
  },
  {
   "cell_type": "code",
   "execution_count": null,
   "metadata": {},
   "outputs": [],
   "source": []
  },
  {
   "cell_type": "code",
   "execution_count": null,
   "metadata": {},
   "outputs": [],
   "source": []
  },
  {
   "cell_type": "code",
   "execution_count": null,
   "metadata": {},
   "outputs": [],
   "source": []
  },
  {
   "cell_type": "code",
   "execution_count": null,
   "metadata": {},
   "outputs": [],
   "source": []
  },
  {
   "cell_type": "code",
   "execution_count": null,
   "metadata": {},
   "outputs": [],
   "source": []
  },
  {
   "cell_type": "code",
   "execution_count": null,
   "metadata": {},
   "outputs": [],
   "source": []
  },
  {
   "cell_type": "code",
   "execution_count": null,
   "metadata": {},
   "outputs": [],
   "source": []
  },
  {
   "cell_type": "code",
   "execution_count": null,
   "metadata": {},
   "outputs": [],
   "source": []
  },
  {
   "cell_type": "code",
   "execution_count": null,
   "metadata": {},
   "outputs": [],
   "source": []
  },
  {
   "cell_type": "code",
   "execution_count": null,
   "metadata": {},
   "outputs": [],
   "source": []
  }
 ],
 "metadata": {
  "kernelspec": {
   "display_name": "Python 3",
   "language": "python",
   "name": "python3"
  },
  "language_info": {
   "codemirror_mode": {
    "name": "ipython",
    "version": 3
   },
   "file_extension": ".py",
   "mimetype": "text/x-python",
   "name": "python",
   "nbconvert_exporter": "python",
   "pygments_lexer": "ipython3",
   "version": "3.7.3"
  }
 },
 "nbformat": 4,
 "nbformat_minor": 2
}
